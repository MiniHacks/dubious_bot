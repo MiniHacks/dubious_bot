{
 "cells": [
  {
   "cell_type": "markdown",
   "id": "93acf2f5-b609-454f-9f2c-6bcb30177087",
   "metadata": {},
   "source": [
    "# Setup"
   ]
  },
  {
   "cell_type": "code",
   "execution_count": 16,
   "id": "d8747b3f-8905-4336-9c4a-54744a8f40ba",
   "metadata": {},
   "outputs": [
    {
     "name": "stderr",
     "output_type": "stream",
     "text": [
      "2022-09-18 01:07:58,651 [asyncio   ] [MainThread  ] Using selector: KqueueSelector\n"
     ]
    },
    {
     "name": "stdout",
     "output_type": "stream",
     "text": [
      "Setup was successful.\n",
      "Connection successful.\n"
     ]
    }
   ],
   "source": [
    "from optibook.synchronous_client import Exchange\n",
    "\n",
    "import time\n",
    "import logging\n",
    "logger = logging.getLogger('client')\n",
    "logger.setLevel('ERROR')\n",
    "print(\"Setup was successful.\")\n",
    "\n",
    "HOST = \"hackzurich-1.optibook.net\"\n",
    "USERNAME = \"team-006\"\n",
    "PASSWORD = \"gb7zflq0u6\"\n",
    "\n",
    "exchange = Exchange(host=HOST, username=USERNAME, password=PASSWORD, info_port=7001, exec_port=8001)\n",
    "exchange.connect()\n",
    "print(\"Connection successful.\")"
   ]
  },
  {
   "cell_type": "markdown",
   "source": [
    "# Get Market Information"
   ],
   "metadata": {
    "collapsed": false
   }
  },
  {
   "cell_type": "code",
   "execution_count": 8,
   "outputs": [
    {
     "name": "stdout",
     "output_type": "stream",
     "text": [
      "PriceBook(SMALL_CHIPS 2022-09-18 00:56:57.396183)\n",
      " #bids | price | #asks \n",
      "PriceBook(TECH_INC_NEW_COUNTRY 2022-09-18 00:57:08.694550)\n",
      " #bids | price | #asks \n",
      "       | 274.3 |  1500 \n",
      "       | 273.2 |   40  \n",
      "       | 273.1 |   16  \n",
      "  265  | 272.8 |       \n",
      "  1500 | 272.0 |       \n",
      "PriceBook(SMALL_CHIPS_NEW_COUNTRY 2022-09-18 00:57:08.150339)\n",
      " #bids | price | #asks \n",
      "       | 131.3 |  250  \n",
      "       | 131.1 |  1500 \n",
      "   20  | 130.0 |       \n",
      "  1500 | 129.9 |       \n",
      "  250  | 129.6 |       \n",
      "   40  | 128.8 |       \n",
      "PriceBook(TECH_INC 2022-09-18 00:56:57.396233)\n",
      " #bids | price | #asks \n"
     ]
    }
   ],
   "source": [
    "instruments = exchange.get_instruments()\n",
    "for instrument in instruments:\n",
    "    print(exchange.get_last_price_book(instrument))"
   ],
   "metadata": {
    "collapsed": false
   }
  },
  {
   "cell_type": "markdown",
   "id": "9274cb67-b70b-43d3-9071-06f8de8a4c16",
   "metadata": {},
   "source": [
    "### Public tradeticks"
   ]
  },
  {
   "cell_type": "code",
   "execution_count": null,
   "id": "5eef657b-3e85-4bd4-aafc-06dad3a3ae5b",
   "metadata": {},
   "outputs": [],
   "source": [
    "# Load and store a list of all public trade ticks since the instantiation of the Exchange (upto a max limit)\n",
    "# These are trades between any participant, you may or may not have participated in these\n",
    "trade_tick_history = exchange.get_trade_tick_history(instrument_id)\n",
    "\n",
    "# Display last 5\n",
    "trade_tick_history[-5:]"
   ]
  },
  {
   "cell_type": "code",
   "execution_count": null,
   "id": "99f5730b-b23c-4adf-a88f-c1394ab03aa0",
   "metadata": {},
   "outputs": [],
   "source": [
    "# Poll all public tradeticks since the last time this method was called\n",
    "exchange.poll_new_trade_ticks(instrument_id)"
   ]
  },
  {
   "cell_type": "markdown",
   "id": "5419b543-5cc1-4bb0-9df2-af7684ccd0b1",
   "metadata": {},
   "source": [
    "### Private trades"
   ]
  },
  {
   "cell_type": "code",
   "execution_count": null,
   "id": "5dd35c7d-c2b0-48d7-93a8-0efeebb8b093",
   "metadata": {},
   "outputs": [],
   "source": [
    "# Load and store a list of all private trades you participated in since the instantiation of the Exchange (upto a max limit)\n",
    "trade_history = exchange.get_trade_history(instrument_id)\n",
    "\n",
    "# Display last 5\n",
    "trade_history[-5:]"
   ]
  },
  {
   "cell_type": "code",
   "execution_count": null,
   "id": "905cbd32-379b-4a01-aa63-7550b61fde58",
   "metadata": {},
   "outputs": [],
   "source": [
    "# Poll all private trades since the last time this method was called\n",
    "exchange.poll_new_trades(instrument_id)"
   ]
  },
  {
   "cell_type": "markdown",
   "id": "6ee74134-f310-41e8-9de0-aabe458c91f1",
   "metadata": {},
   "source": [
    "### Position & PnL"
   ]
  },
  {
   "cell_type": "code",
   "execution_count": 9,
   "id": "5785926a-331b-4e43-ad16-6489430fdc43",
   "metadata": {},
   "outputs": [
    {
     "data": {
      "text/plain": "{'TECH_INC': 0,\n 'SMALL_CHIPS_NEW_COUNTRY': 7,\n 'TECH_INC_NEW_COUNTRY': 0,\n 'SMALL_CHIPS': 90}"
     },
     "execution_count": 9,
     "metadata": {},
     "output_type": "execute_result"
    }
   ],
   "source": [
    "# Load current positions in all instruments\n",
    "exchange.get_positions()"
   ]
  },
  {
   "cell_type": "code",
   "execution_count": 10,
   "id": "1016a928-4f7b-4c00-bb5b-4f5ed830ccc7",
   "metadata": {},
   "outputs": [
    {
     "data": {
      "text/plain": "{'TECH_INC': {'volume': 0, 'cash': 0.0},\n 'SMALL_CHIPS_NEW_COUNTRY': {'volume': 7, 'cash': -3486.331200000062},\n 'TECH_INC_NEW_COUNTRY': {'volume': 0, 'cash': 0.0},\n 'SMALL_CHIPS': {'volume': 90, 'cash': -11342.787999999999}}"
     },
     "execution_count": 10,
     "metadata": {},
     "output_type": "execute_result"
    }
   ],
   "source": [
    "# Load current positions in all instruments, including cash component (how much did we invest or gain by trading each instrument)\n",
    "exchange.get_positions_and_cash()"
   ]
  },
  {
   "cell_type": "code",
   "execution_count": 11,
   "id": "1b9f95bf-d847-47de-bff7-3bb68188409b",
   "metadata": {},
   "outputs": [
    {
     "data": {
      "text/plain": "-2199.019200000059"
     },
     "execution_count": 11,
     "metadata": {},
     "output_type": "execute_result"
    }
   ],
   "source": [
    "# Current PnL: sum of all cash components and value of the positions (evaluated against last-traded price) \n",
    "exchange.get_pnl()"
   ]
  },
  {
   "cell_type": "markdown",
   "id": "3a322fbd-e1e3-4e8a-b5a2-8387b7062c44",
   "metadata": {},
   "source": [
    "# Orders"
   ]
  },
  {
   "cell_type": "markdown",
   "id": "ec396b72-70c6-4cf1-8412-4368f6aa9a4c",
   "metadata": {},
   "source": [
    "### Inserting"
   ]
  },
  {
   "cell_type": "code",
   "execution_count": null,
   "id": "ac9dcb15-b55b-4500-a516-2a4e918397e7",
   "metadata": {},
   "outputs": [],
   "source": [
    "# Insert bid LIMIT order - this trades against any current orders, and any remainders become new resting orders in the book\n",
    "# The returned value is a 'InsertOrderResponse' which, if successfull, contains the order_id of the order\n",
    "exchange.insert_order(instrument_id, price=10, volume=5, side='bid', order_type='limit')"
   ]
  },
  {
   "cell_type": "code",
   "execution_count": null,
   "id": "cdf2c01e-4de7-4b5d-bad7-f72c3f67dc93",
   "metadata": {},
   "outputs": [],
   "source": [
    "# Insert ask LIMIT order - this trades against any current orders, and any remainders become new resting orders in the book\n",
    "exchange.insert_order(instrument_id, price=20, volume=5, side='ask', order_type='limit')"
   ]
  },
  {
   "cell_type": "code",
   "execution_count": null,
   "id": "a85e2846-51b2-426f-b5da-f189502a1a44",
   "metadata": {},
   "outputs": [],
   "source": [
    "# Insert bid IOC order - this order trades against any resting volume which has an equal or better price, but does not remain in the \n",
    "# book if any volume is unfilled\n",
    "exchange.insert_order(instrument_id, price=10, volume=5, side='bid', order_type='ioc')"
   ]
  },
  {
   "cell_type": "code",
   "execution_count": null,
   "id": "4ce39bcc-5a61-4c86-9a89-ef2f29d0e4cf",
   "metadata": {},
   "outputs": [],
   "source": [
    "# Insert ask IOC order - this order trades against any resting volume which has an equal or better price, but does not remain in the \n",
    "# book if any volume is unfilled\n",
    "exchange.insert_order(instrument_id, price=20, volume=5, side='ask', order_type='ioc')"
   ]
  },
  {
   "cell_type": "markdown",
   "id": "456c74c9-f7fa-433f-ab60-8288b452c8fd",
   "metadata": {},
   "source": [
    "### Deleting & amending"
   ]
  },
  {
   "cell_type": "code",
   "execution_count": null,
   "id": "29dfeebc-4f88-41c6-a07b-b94a997d082c",
   "metadata": {},
   "outputs": [],
   "source": [
    "# Load a list of own outstanding/resting orders\n",
    "exchange.get_outstanding_orders(instrument_id)"
   ]
  },
  {
   "cell_type": "code",
   "execution_count": null,
   "id": "da5df034-dc73-42d3-b0ba-c113e8a3f6f7",
   "metadata": {},
   "outputs": [],
   "source": [
    "# Delete an order by order_id, the returned DeleteOrderRequest contains a boolean showing whether the delete was succesful\n",
    "exchange.delete_order(instrument_id, order_id=1234)"
   ]
  },
  {
   "cell_type": "code",
   "execution_count": null,
   "id": "cca548dd-9f1b-4e1b-99c4-04efbd4d289a",
   "metadata": {},
   "outputs": [],
   "source": [
    "# Delete all outstanding orders for an instrument\n",
    "exchange.delete_orders(instrument_id)"
   ]
  },
  {
   "cell_type": "code",
   "execution_count": null,
   "id": "c2b9a407-ab66-49a2-a389-9a79c9819d25",
   "metadata": {},
   "outputs": [],
   "source": [
    "# Change (amend) the volume of an existing resting order by order_id, the returned AmendOrderResponse contains a boolean showing whether the amend was succesful\n",
    "exchange.amend_order(instrument_id, order_id=1234, volume=30)"
   ]
  },
  {
   "cell_type": "code",
   "execution_count": 17,
   "id": "556b6ad0-c62a-4324-9638-b9357676fecf",
   "metadata": {},
   "outputs": [
    {
     "name": "stdout",
     "output_type": "stream",
     "text": [
      "Positions before: {'TECH_INC': 0, 'SMALL_CHIPS_NEW_COUNTRY': 22, 'TECH_INC_NEW_COUNTRY': 0, 'SMALL_CHIPS': 0}\n",
      "\n",
      "PnL before: -2171.42\n",
      "-- Inserting $bid for 20 SMALL_CHIPS, with limit price 121.00\n",
      "\n",
      "Positions after: {'TECH_INC': 0, 'SMALL_CHIPS_NEW_COUNTRY': 22, 'TECH_INC_NEW_COUNTRY': 0, 'SMALL_CHIPS': 0}\n",
      "\n",
      "PnL after: -2171.42\n"
     ]
    }
   ],
   "source": [
    "# DO WHAT\n",
    "side = \"bid\"\n",
    "# TO WHAT\n",
    "iid = \"SMALL_CHIPS\"\n",
    "# AT WHAT PRICE\n",
    "price = 121.0\n",
    "# AND HOW MANY\n",
    "vol = 20\n",
    "\n",
    "positions = exchange.get_positions()\n",
    "pnl = exchange.get_pnl()\n",
    "\n",
    "print(f'Positions before: {positions}')\n",
    "print(f'\\nPnL before: {pnl:.2f}')\n",
    "\n",
    "print(f'-- Inserting {side} for {vol} {iid}, with limit price {price:.2f}')\n",
    "exchange.insert_order(iid, price=price, volume=vol, side=side, order_type=\"ioc\")\n",
    "\n",
    "\n",
    "time.sleep(1.0)\n",
    "positions = exchange.get_positions()\n",
    "pnl = exchange.get_pnl()\n",
    "print(f'\\nPositions after: {positions}')\n",
    "print(f'\\nPnL after: {pnl:.2f}')"
   ]
  },
  {
   "cell_type": "code",
   "execution_count": null,
   "outputs": [],
   "source": [],
   "metadata": {
    "collapsed": false
   }
  },
  {
   "cell_type": "code",
   "execution_count": null,
   "outputs": [],
   "source": [],
   "metadata": {
    "collapsed": false
   }
  },
  {
   "cell_type": "code",
   "execution_count": null,
   "id": "2a98c3de-c0e3-4a43-adf6-9879ce22b50a",
   "metadata": {},
   "outputs": [],
   "source": []
  }
 ],
 "metadata": {
  "kernelspec": {
   "display_name": "Python 3",
   "language": "python",
   "name": "python3"
  },
  "language_info": {
   "codemirror_mode": {
    "name": "ipython",
    "version": 3
   },
   "file_extension": ".py",
   "mimetype": "text/x-python",
   "name": "python",
   "nbconvert_exporter": "python",
   "pygments_lexer": "ipython3",
   "version": "3.6.12"
  }
 },
 "nbformat": 4,
 "nbformat_minor": 5
}
